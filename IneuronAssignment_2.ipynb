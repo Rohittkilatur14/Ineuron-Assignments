{
  "nbformat": 4,
  "nbformat_minor": 0,
  "metadata": {
    "colab": {
      "name": "IneuronAssignment_2.ipynb",
      "provenance": [],
      "authorship_tag": "ABX9TyP0blHNS6X+iUH8DZlRy/eJ",
      "include_colab_link": true
    },
    "kernelspec": {
      "name": "python3",
      "display_name": "Python 3"
    }
  },
  "cells": [
    {
      "cell_type": "markdown",
      "metadata": {
        "id": "view-in-github",
        "colab_type": "text"
      },
      "source": [
        "<a href=\"https://colab.research.google.com/github/Rohittkilatur14/Ineuron-Assignments/blob/main/IneuronAssignment_2.ipynb\" target=\"_parent\"><img src=\"https://colab.research.google.com/assets/colab-badge.svg\" alt=\"Open In Colab\"/></a>"
      ]
    },
    {
      "cell_type": "code",
      "metadata": {
        "id": "go17eeAB3kj8"
      },
      "source": [
        "1. Create the below pattern using nested for loop in Python.\r\n",
        "\r\n",
        "\r\n",
        "*\r\n",
        "* *\r\n",
        "* * *\r\n",
        "* * * *\r\n",
        "* * * * *\r\n",
        "* * * *\r\n",
        "* * *\r\n",
        "* *\r\n",
        "*"
      ],
      "execution_count": null,
      "outputs": []
    },
    {
      "cell_type": "code",
      "metadata": {
        "colab": {
          "base_uri": "https://localhost:8080/"
        },
        "id": "qw3JEiM732D5",
        "outputId": "641f5810-3669-4a1e-8fc4-fc4ec5f8704e"
      },
      "source": [
        " #Printing upper portion of the pattern\r\n",
        " \r\n",
        "for i in range(0,5):\r\n",
        "    for j in range(i):\r\n",
        "        print ('* ', end=\"\")\r\n",
        "    print('')\r\n",
        "\r\n",
        "\r\n",
        "#Printing lower portion of the pattern with a step decrease of '1'\r\n",
        "\r\n",
        "for i in range(5,0,-1):\r\n",
        "    for j in range(i):\r\n",
        "        print('* ', end=\"\")\r\n",
        "    print('')"
      ],
      "execution_count": 19,
      "outputs": [
        {
          "output_type": "stream",
          "text": [
            "\n",
            "* \n",
            "* * \n",
            "* * * \n",
            "* * * * \n",
            "* * * * * \n",
            "* * * * \n",
            "* * * \n",
            "* * \n",
            "* \n"
          ],
          "name": "stdout"
        }
      ]
    },
    {
      "cell_type": "markdown",
      "metadata": {
        "id": "DoHJq2dC4vXJ"
      },
      "source": [
        "2. Write a Python program to reverse a word after accepting the input from the user."
      ]
    },
    {
      "cell_type": "markdown",
      "metadata": {
        "id": "_Uo7YnjD6DMI"
      },
      "source": [
        "Sample Output:\r\n",
        "\r\n",
        "Input word: ineuron\r\n",
        "\r\n",
        "Output: norueni"
      ]
    },
    {
      "cell_type": "code",
      "metadata": {
        "colab": {
          "base_uri": "https://localhost:8080/"
        },
        "id": "VpPWCw4l6OWL",
        "outputId": "da63b532-f14a-4832-b5ff-294617c14888"
      },
      "source": [
        "word = input(\"Enter a string: \")\r\n",
        "print (word[::-1])"
      ],
      "execution_count": 15,
      "outputs": [
        {
          "output_type": "stream",
          "text": [
            "Enter a string: ineuron\n",
            "norueni\n"
          ],
          "name": "stdout"
        }
      ]
    }
  ]
}