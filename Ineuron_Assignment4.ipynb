{
  "nbformat": 4,
  "nbformat_minor": 0,
  "metadata": {
    "colab": {
      "name": "Ineuron_Assignment4.ipynb",
      "provenance": [],
      "authorship_tag": "ABX9TyMDoh5eIA3ntgiqU26eEVm8",
      "include_colab_link": true
    },
    "kernelspec": {
      "name": "python3",
      "display_name": "Python 3"
    }
  },
  "cells": [
    {
      "cell_type": "markdown",
      "metadata": {
        "id": "view-in-github",
        "colab_type": "text"
      },
      "source": [
        "<a href=\"https://colab.research.google.com/github/Rohittkilatur14/Ineuron-Assignments/blob/main/Ineuron_Assignment4.ipynb\" target=\"_parent\"><img src=\"https://colab.research.google.com/assets/colab-badge.svg\" alt=\"Open In Colab\"/></a>"
      ]
    },
    {
      "cell_type": "markdown",
      "metadata": {
        "id": "QN19n4mdp7J2"
      },
      "source": [
        "1.1 Write a Python Program(with class concepts) to find the area of the triangle using the below\r\n",
        "formula.\r\n",
        "area = (s*(s-a)*(s-b)*(s-c)) ** 0.5\r\n",
        "Function to take the length of the sides of triangle from user should be defined in the parent\r\n",
        "class and function to calculate the area should be defined in subclass.\r\n"
      ]
    },
    {
      "cell_type": "code",
      "metadata": {
        "colab": {
          "base_uri": "https://localhost:8080/"
        },
        "id": "M7eO2WWgqXte",
        "outputId": "3724ea76-b0a3-4cba-d966-6475933d4ae8"
      },
      "source": [
        "class sides:\r\n",
        "    def __init__(self,a,b,c):\r\n",
        "        self.a=a\r\n",
        "        self.b=b\r\n",
        "        self.c=c\r\n",
        "        \r\n",
        "class triangle(sides):\r\n",
        "    def area(self):\r\n",
        "        s=(self.a+self.b+self.c)*0.5\r\n",
        "        return float((s * (s - self.a) * (s - self.b) * (s - self.c))) ** 0.5\r\n",
        "\r\n",
        "a, b, c = float(input(\"a = \")), float(input(\"b = \")), float(input(\"c = \"))\r\n",
        "t=triangle(a,b,c)\r\n",
        "print('area of triangle is ', t.area())"
      ],
      "execution_count": 5,
      "outputs": [
        {
          "output_type": "stream",
          "text": [
            "a = 2.4\n",
            "b = 3.6\n",
            "c = 5.7\n",
            "area of triangle is  2.6099030154394574\n"
          ],
          "name": "stdout"
        }
      ]
    },
    {
      "cell_type": "markdown",
      "metadata": {
        "id": "xfPxTV42s9wI"
      },
      "source": [
        "1.2 Write a function filter_long_words() that takes a list of words and an integer n and returns\r\n",
        "the list of words that are longer than n."
      ]
    },
    {
      "cell_type": "code",
      "metadata": {
        "colab": {
          "base_uri": "https://localhost:8080/"
        },
        "id": "9ga5_axtuw73",
        "outputId": "607ba291-f06b-4e0a-fc59-f564dc5c9b30"
      },
      "source": [
        "def filter_long_words(inputList,inputWordLength):\r\n",
        " \r\n",
        "    list= []\r\n",
        " \r\n",
        "    for i in range(len(inputList)):\r\n",
        "        if len(inputList[i]) > inputWordLength:\r\n",
        "            list.append(inputList[i])\r\n",
        " \r\n",
        "    return list\r\n",
        " \r\n",
        "inputList = ['wordOne','wordTwo','wordThree','wordFour','wordFive']\r\n",
        "inputWordLength = 7\r\n",
        " \r\n",
        "print (str(filter_long_words(inputListOfWords,inputWordLength)))"
      ],
      "execution_count": 13,
      "outputs": [
        {
          "output_type": "stream",
          "text": [
            "['wordThree', 'wordFour', 'wordFive']\n"
          ],
          "name": "stdout"
        }
      ]
    },
    {
      "cell_type": "markdown",
      "metadata": {
        "id": "FbhdzE7qv91e"
      },
      "source": [
        "2.1 Write a Python program using function concept that maps list of words into a list of integers\r\n",
        "representing the lengths of the corresponding words.\r\n",
        "Hint: If a list [ ab,cde,erty] is passed on to the python function output should come as [2,3,4]\r\n",
        "Here 2,3 and 4 are the lengths of the words in the list."
      ]
    },
    {
      "cell_type": "code",
      "metadata": {
        "colab": {
          "base_uri": "https://localhost:8080/"
        },
        "id": "uXMLIO2zwBJq",
        "outputId": "19977c36-5ef9-44ff-ae4a-6c5f6f21a069"
      },
      "source": [
        "def map_Words_to_Length(List):\r\n",
        "    return list(map(len, List))\r\n",
        "\r\n",
        "word_List=list(input(\"Input : Please enter Words : \").split(\",\"))\r\n",
        "#List Comprehension has been done to remove white trailing white spaces\r\n",
        "List=[x.strip() for x in word_List]\r\n",
        "#function Execution\r\n",
        "Words_lengths=map_Words_to_Length(List)\r\n",
        "\r\n",
        "print(\"Output: Length of Words are :\",Words_lengths )"
      ],
      "execution_count": 15,
      "outputs": [
        {
          "output_type": "stream",
          "text": [
            "Input : Please enter Words : ab,cde,erty\n",
            "Output: Length of Words are : [2, 3, 4]\n"
          ],
          "name": "stdout"
        }
      ]
    },
    {
      "cell_type": "markdown",
      "metadata": {
        "id": "BHhpD1t7xtqd"
      },
      "source": [
        "2.2 Write a Python function which takes a character (i.e. a string of length 1) and returns True if\r\n",
        "it is a vowel, False otherwise."
      ]
    },
    {
      "cell_type": "code",
      "metadata": {
        "colab": {
          "base_uri": "https://localhost:8080/"
        },
        "id": "kAsUckNXxw81",
        "outputId": "95e28d27-8a41-4fff-fc07-2450395191dc"
      },
      "source": [
        "def vowel_checker(inputChar):\r\n",
        "    return_value=''\r\n",
        "    \r\n",
        "    if(len(inputChar)==1):\r\n",
        "        vowel_list=['a','e','i','o','u']\r\n",
        "        if (inputChar.lower() in vowel_list):\r\n",
        "            return_value= True\r\n",
        "        else:\r\n",
        "            return_value= False\r\n",
        "    else:\r\n",
        "        return_value=\"Please enter single character only!\"        \r\n",
        "    return return_value\r\n",
        "\r\n",
        "#Ask user's Input\r\n",
        "print(\"Enter character to check that it is Vowel or not\")\r\n",
        "input_value = input(\"Input Value: \")\r\n",
        "#Function Execution\r\n",
        "output_value=vowel_checker(input_value) \r\n",
        "#Output\r\n",
        "print(\"Output Value:\",output_value)"
      ],
      "execution_count": 21,
      "outputs": [
        {
          "output_type": "stream",
          "text": [
            "Enter character to check that it is Vowel or not\n",
            "Input Value: a\n",
            "Output Value: True\n"
          ],
          "name": "stdout"
        }
      ]
    }
  ]
}