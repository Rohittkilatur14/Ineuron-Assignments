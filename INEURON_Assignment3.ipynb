{
  "nbformat": 4,
  "nbformat_minor": 0,
  "metadata": {
    "colab": {
      "name": "INEURON_Assignment3.ipynb",
      "provenance": [],
      "authorship_tag": "ABX9TyO2lGTUdX/bvFLVF5HI/fRy",
      "include_colab_link": true
    },
    "kernelspec": {
      "name": "python3",
      "display_name": "Python 3"
    }
  },
  "cells": [
    {
      "cell_type": "markdown",
      "metadata": {
        "id": "view-in-github",
        "colab_type": "text"
      },
      "source": [
        "<a href=\"https://colab.research.google.com/github/Rohittkilatur14/Ineuron-Assignments/blob/main/INEURON_Assignment3.ipynb\" target=\"_parent\"><img src=\"https://colab.research.google.com/assets/colab-badge.svg\" alt=\"Open In Colab\"/></a>"
      ]
    },
    {
      "cell_type": "markdown",
      "metadata": {
        "id": "fh8BI0dTeAap"
      },
      "source": [
        " 1.1 Write a Python Program to implement your own myreduce()function which works exactly like Python's built-in function reduce()"
      ]
    },
    {
      "cell_type": "code",
      "metadata": {
        "colab": {
          "base_uri": "https://localhost:8080/"
        },
        "id": "vGNQFitGeUwW",
        "outputId": "4da10946-18b3-4a7a-c003-3548c79525e3"
      },
      "source": [
        "\r\n",
        "def myreduce(number):\r\n",
        "    #This function will return sum of n Natural numbers \r\n",
        "\r\n",
        "    number_list=list(range(1,number+1))\r\n",
        "    sum_of_elements=0\r\n",
        "    \r\n",
        "    for i in number_list:\r\n",
        "        sum_of_elements+=i\r\n",
        "        \r\n",
        "    return number_list,sum_of_elements\r\n",
        "\r\n",
        "\r\n",
        "    \r\n",
        "#Input \r\n",
        "print(\"Input:\")\r\n",
        "number=int(input(\"Please insert the number :\"))\r\n",
        "\r\n",
        "#Function Execution\r\n",
        "output_value = myreduce(number)\r\n",
        "\r\n",
        "\r\n",
        "#Output\r\n",
        "print(\"Output:\")\r\n",
        "print(\"List of First n Natural numbers are:\",output_value[0])\r\n",
        "print(\"Sum of List elements are :\",output_value[1])"
      ],
      "execution_count": 25,
      "outputs": [
        {
          "output_type": "stream",
          "text": [
            "Input:\n",
            "Please insert the number :23\n",
            "Output:\n",
            "List of First n Natural numbers are: [1, 2, 3, 4, 5, 6, 7, 8, 9, 10, 11, 12, 13, 14, 15, 16, 17, 18, 19, 20, 21, 22, 23]\n",
            "Sum of List elements are : 276\n"
          ],
          "name": "stdout"
        }
      ]
    },
    {
      "cell_type": "code",
      "metadata": {
        "colab": {
          "base_uri": "https://localhost:8080/"
        },
        "id": "nyOG6we9kBKQ",
        "outputId": "dfc10049-39a6-4083-d94a-26d2792d3676"
      },
      "source": [
        "# Same Solution can be approached by Built-in reduce() function\r\n",
        "\r\n",
        "print(\"Input:\")\r\n",
        "number=int(input(\"Please insert the number :\"))\r\n",
        "\r\n",
        "num_list= list(range(1,(number+1)))\r\n",
        "# Import reduce function \r\n",
        "from functools import reduce\r\n",
        "sum_of_elements = reduce((lambda x, y: x + y), num_list)\r\n",
        "\r\n",
        "#Output\r\n",
        "print(\"Output:\")\r\n",
        "print(\"List of First n Natural numbers are:\",num_list)\r\n",
        "print(\"Sum of List elements are :\",sum_of_elements)"
      ],
      "execution_count": 24,
      "outputs": [
        {
          "output_type": "stream",
          "text": [
            "Input:\n",
            "Please insert the number :23\n",
            "Output:\n",
            "List of First n Natural numbers are: [1, 2, 3, 4, 5, 6, 7, 8, 9, 10, 11, 12, 13, 14, 15, 16, 17, 18, 19, 20, 21, 22, 23]\n",
            "Sum of List elements are : 276\n"
          ],
          "name": "stdout"
        }
      ]
    },
    {
      "cell_type": "markdown",
      "metadata": {
        "id": "Kk2Xzvetk4JB"
      },
      "source": [
        "1.2 Write a Python program to implement your own myfilter() function which works exactly like Python's built-in function filter()"
      ]
    },
    {
      "cell_type": "code",
      "metadata": {
        "colab": {
          "base_uri": "https://localhost:8080/"
        },
        "id": "zuS3p7oBk-Lj",
        "outputId": "801563d0-d688-4959-8daa-045173ab3fab"
      },
      "source": [
        "# Filter the even and odd number from list \r\n",
        "\r\n",
        "#Input \r\n",
        "print(\"Input:\")\r\n",
        "number = int(input(\"Please insert the number: \"))\r\n",
        "\r\n",
        "num_list = list(range(1,number+1))\r\n",
        "\r\n",
        "\r\n",
        "def myfilter(num_list):\r\n",
        "    ##This function will filter even and odd numbers from list \r\n",
        "    num_even_list=[]\r\n",
        "    num_odd_list=[]\r\n",
        "    \r\n",
        "    for i in num_list:\r\n",
        "            if(i%2==0):\r\n",
        "                num_even_list.append(i)\r\n",
        "            else:\r\n",
        "                num_odd_list.append(i)\r\n",
        "                \r\n",
        "    return num_even_list,num_odd_list\r\n",
        "\r\n",
        "\r\n",
        "#Function Execution\r\n",
        "output_value=myfilter(num_list)\r\n",
        "\r\n",
        "#Output\r\n",
        "print(\"Output:\")\r\n",
        "print(\"List of numbers:\",num_list)\r\n",
        "print(\"List of Even numbers are:\",output_value[0])\r\n",
        "print(\"List of Odd numbers are:\",output_value[1])"
      ],
      "execution_count": 26,
      "outputs": [
        {
          "output_type": "stream",
          "text": [
            "Input:\n",
            "Please insert the number: 24\n",
            "Output:\n",
            "List of numbers: [1, 2, 3, 4, 5, 6, 7, 8, 9, 10, 11, 12, 13, 14, 15, 16, 17, 18, 19, 20, 21, 22, 23, 24]\n",
            "List of Even numbers are: [2, 4, 6, 8, 10, 12, 14, 16, 18, 20, 22, 24]\n",
            "List of Odd numbers are: [1, 3, 5, 7, 9, 11, 13, 15, 17, 19, 21, 23]\n"
          ],
          "name": "stdout"
        }
      ]
    },
    {
      "cell_type": "code",
      "metadata": {
        "colab": {
          "base_uri": "https://localhost:8080/"
        },
        "id": "GHt_lfzfmXhA",
        "outputId": "dea5fe38-6ae4-4b78-b1cd-2d16d1b380aa"
      },
      "source": [
        "#Same solution can be approached by built-in filter() function\r\n",
        "\r\n",
        "#Input \r\n",
        "print(\"Input:\")\r\n",
        "number=int(input(\"Please insert the number: \"))\r\n",
        "\r\n",
        "num_list=list(range(1,number+1))\r\n",
        "\r\n",
        "num_even_list=list(filter(lambda x: x%2==0,num_list))\r\n",
        "num_odd_list= list(filter(lambda x: x%2!=0,num_list))\r\n",
        "\r\n",
        "#Output\r\n",
        "print(\"Output:\")\r\n",
        "print(\"List of numbers:\",num_list)\r\n",
        "print(\"List of Even numbers are:\",num_even_list)\r\n",
        "print(\"List of Odd numbers are:\",num_odd_list)"
      ],
      "execution_count": 27,
      "outputs": [
        {
          "output_type": "stream",
          "text": [
            "Input:\n",
            "Please insert the number: 23\n",
            "Output:\n",
            "List of numbers: [1, 2, 3, 4, 5, 6, 7, 8, 9, 10, 11, 12, 13, 14, 15, 16, 17, 18, 19, 20, 21, 22, 23]\n",
            "List of Even numbers are: [2, 4, 6, 8, 10, 12, 14, 16, 18, 20, 22]\n",
            "List of Odd numbers are: [1, 3, 5, 7, 9, 11, 13, 15, 17, 19, 21, 23]\n"
          ],
          "name": "stdout"
        }
      ]
    },
    {
      "cell_type": "markdown",
      "metadata": {
        "id": "o7cSFZnYnvjZ"
      },
      "source": [
        "\r\n",
        "2. Implement List comprehensions to produce the following lists. Write List comprehensions to produce the following Lists ['A', 'C', 'A', 'D', 'G', 'I', ’L’, ‘ D’] ['x', 'xx', 'xxx', 'xxxx', 'y', 'yy', 'yyy', 'yyyy', 'z', 'zz', 'zzz', 'zzzz'] ['x', 'y', 'z', 'xx', 'yy', 'zz', 'xx', 'yy', 'zz', 'xxxx', 'yyyy', 'zzzz'] [[2], [3], [4], [3], [4], [5], [4], [5], [6]] [[2, 3, 4, 5], [3, 4, 5, 6], [4, 5, 6, 7], [5, 6, 7, 8]] [(1, 1), (2, 1), (3, 1), (1, 2), (2, 2), (3, 2), (1, 3), (2, 3), (3, 3)]"
      ]
    },
    {
      "cell_type": "code",
      "metadata": {
        "colab": {
          "base_uri": "https://localhost:8080/"
        },
        "id": "0ESfCczFnybF",
        "outputId": "6923119d-c204-4c79-9572-0410250c573e"
      },
      "source": [
        "\r\n",
        "\r\n",
        "#Section 1\r\n",
        "word=\"AcadGild\"\r\n",
        "#list Comprehension\r\n",
        "output_list=[w.upper() for w in list(word)]\r\n",
        "print(\"Output:\")\r\n",
        "print(output_list)\r\n",
        "\r\n",
        "#Section 2\r\n",
        "word_1=list('xyz')\r\n",
        "word_2=[x*n for x in word_1 for n in range(1,5) ]\r\n",
        "print(word_2)\r\n",
        "\r\n",
        "#Section 3\r\n",
        "word_3=[x*n for n in range(1,5) for x in word_1 ]\r\n",
        "print(word_3)\r\n",
        "\r\n",
        "#Section 4\r\n",
        "number=[2,3,4]\r\n",
        "number_1=[[x+n] for x in number for n in range(0,3)]\r\n",
        "print(number_1)\r\n",
        "\r\n",
        "#Section 5\r\n",
        "number_2=[2,3,4,5]\r\n",
        "number_3=[[x+n for n in range(0,4)] for x in number_2 ]\r\n",
        "print(number_3)\r\n",
        "\r\n",
        "#Section 6\r\n",
        "number_4=[1,2,3]\r\n",
        "number_5= [(b,a) for a in number_4 for b in number_4]\r\n",
        "print(number_5)"
      ],
      "execution_count": 28,
      "outputs": [
        {
          "output_type": "stream",
          "text": [
            "Output:\n",
            "['A', 'C', 'A', 'D', 'G', 'I', 'L', 'D']\n",
            "['x', 'xx', 'xxx', 'xxxx', 'y', 'yy', 'yyy', 'yyyy', 'z', 'zz', 'zzz', 'zzzz']\n",
            "['x', 'y', 'z', 'xx', 'yy', 'zz', 'xxx', 'yyy', 'zzz', 'xxxx', 'yyyy', 'zzzz']\n",
            "[[2], [3], [4], [3], [4], [5], [4], [5], [6]]\n",
            "[[2, 3, 4, 5], [3, 4, 5, 6], [4, 5, 6, 7], [5, 6, 7, 8]]\n",
            "[(1, 1), (2, 1), (3, 1), (1, 2), (2, 2), (3, 2), (1, 3), (2, 3), (3, 3)]\n"
          ],
          "name": "stdout"
        }
      ]
    }
  ]
}